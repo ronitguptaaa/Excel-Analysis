{
 "cells": [
  {
   "cell_type": "code",
   "execution_count": null,
   "metadata": {},
   "outputs": [],
   "source": [
    "import pandas as pd\n",
    "from pyspark.sql import SparkSession\n",
    "spark = SparkSession.builder.appName(\"DropHeadersExample\").getOrCreate()"
   ]
  },
  {
   "cell_type": "code",
   "execution_count": 32,
   "metadata": {},
   "outputs": [],
   "source": [
    "def clean_data(df):\n",
    "    df = df.drop(columns=['Unnamed: 0'])\n",
    "    df = df.fillna({'Unnamed: 3': \"\"})\n",
    "    df = df.dropna(subset=['Inferential statistics. Confidence intervals'])\n",
    "    df = df.dropna(subset=['Unnamed: 2'])\n",
    "    return df\n",
    "\n",
    "df = pd.read_excel(r'/Users/ronitguptaaa/Downloads/The Data Science Course 2021 - All Resources/Part_3_Statistics/S19_L119/3.17.Practical-example.Confidence-intervals-exercise.xlsx')\n",
    "\n",
    "df_clean = clean_data(df.copy())\n",
    "df_clean = df_clean.to_numpy()\n",
    "\n",
    "df = pd.DataFrame(df_clean)"
   ]
  },
  {
   "cell_type": "code",
   "execution_count": 36,
   "metadata": {},
   "outputs": [],
   "source": [
    "df = pd.read_csv('Shoes_Dataset')\n",
    "def clean_data(df):\n",
    "    df = df.drop(columns=['Unnamed: 1'])\n",
    "    df = df.drop(columns=['2'])\n",
    "    df = df.rename(columns={'Unnamed: 13': 'Year'})\n",
    "    return df\n",
    "\n",
    "df_clean = clean_data(df.copy())\n",
    "df_clean.to_parquet('Al-Bundy-Final-Dataset')"
   ]
  }
 ],
 "metadata": {
  "kernelspec": {
   "display_name": ".venv",
   "language": "python",
   "name": "python3"
  },
  "language_info": {
   "codemirror_mode": {
    "name": "ipython",
    "version": 3
   },
   "file_extension": ".py",
   "mimetype": "text/x-python",
   "name": "python",
   "nbconvert_exporter": "python",
   "pygments_lexer": "ipython3",
   "version": "3.9.16"
  }
 },
 "nbformat": 4,
 "nbformat_minor": 2
}
