{
 "cells": [
  {
   "cell_type": "code",
   "execution_count": 1,
   "metadata": {},
   "outputs": [],
   "source": [
    "from pyspark.sql import SparkSession\n",
    "import mysql.connector"
   ]
  },
  {
   "cell_type": "code",
   "execution_count": 2,
   "metadata": {},
   "outputs": [
    {
     "name": "stderr",
     "output_type": "stream",
     "text": [
      "24/06/25 16:14:31 WARN Utils: Your hostname, Ronits-MacBook-Air.local resolves to a loopback address: 127.0.0.1; using 192.168.1.4 instead (on interface en0)\n",
      "24/06/25 16:14:31 WARN Utils: Set SPARK_LOCAL_IP if you need to bind to another address\n",
      "Setting default log level to \"WARN\".\n",
      "To adjust logging level use sc.setLogLevel(newLevel). For SparkR, use setLogLevel(newLevel).\n",
      "24/06/25 16:14:32 WARN NativeCodeLoader: Unable to load native-hadoop library for your platform... using builtin-java classes where applicable\n"
     ]
    }
   ],
   "source": [
    "spark = SparkSession.builder.appName(\"YourAppName\").getOrCreate()"
   ]
  },
  {
   "cell_type": "markdown",
   "metadata": {},
   "source": [
    "### MySQL Connection"
   ]
  },
  {
   "cell_type": "code",
   "execution_count": 98,
   "metadata": {},
   "outputs": [],
   "source": [
    "conn = mysql.connector.connect(\n",
    "    host='127.0.0.1',\n",
    "    user='root',\n",
    "    password='ronitgupta28',\n",
    "    database='ExcelAnalysis'\n",
    ")\n",
    "\n",
    "cursor = conn.cursor()"
   ]
  },
  {
   "cell_type": "markdown",
   "metadata": {},
   "source": [
    "### Employee Review Table"
   ]
  },
  {
   "cell_type": "code",
   "execution_count": 99,
   "metadata": {},
   "outputs": [],
   "source": [
    "query_columns = \"SHOW COLUMNS FROM EmployeeReview\"\n",
    "cursor.execute(query_columns)\n",
    "columns = [column[0] for column in cursor.fetchall()]\n",
    "\n",
    "query = \"SELECT * FROM EmployeeReview\"\n",
    "cursor.execute(query)\n",
    "data = [row for row in cursor.fetchall()]\n",
    "\n",
    "df = spark.createDataFrame(data, schema=columns)\n",
    "\n",
    "df.createOrReplaceTempView('EmployeeReview')"
   ]
  },
  {
   "cell_type": "markdown",
   "metadata": {},
   "source": [
    "### Employee Survey Table"
   ]
  },
  {
   "cell_type": "code",
   "execution_count": 100,
   "metadata": {},
   "outputs": [],
   "source": [
    "query_columns = \"SHOW COLUMNS FROM EmployeeSurvey\"\n",
    "cursor.execute(query_columns)\n",
    "columns = [column[0] for column in cursor.fetchall()]\n",
    "\n",
    "query = \"SELECT * FROM EmployeeSurvey\"\n",
    "cursor.execute(query)\n",
    "data = [row for row in cursor.fetchall()]\n",
    "\n",
    "df = spark.createDataFrame(data, schema=columns)\n",
    "\n",
    "df.createOrReplaceTempView('EmployeeSurvey')"
   ]
  },
  {
   "cell_type": "markdown",
   "metadata": {},
   "source": [
    "## Temporary Tables"
   ]
  },
  {
   "cell_type": "markdown",
   "metadata": {},
   "source": [
    "### Race"
   ]
  },
  {
   "cell_type": "code",
   "execution_count": 101,
   "metadata": {},
   "outputs": [],
   "source": [
    "df = spark.sql(\n",
    "    \"\"\"WITH RaceCTE AS (\n",
    "\tSELECT DISTINCT Race FROM EmployeeReview\n",
    "    WHERE Race IS NOT NULL\n",
    ")\n",
    "SELECT Race, ROW_NUMBER() OVER (ORDER BY Race) AS RaceID FROM RaceCTE \"\"\"\n",
    ")\n",
    "df.createOrReplaceTempView('RaceMapping')"
   ]
  },
  {
   "cell_type": "markdown",
   "metadata": {},
   "source": [
    "### Gender"
   ]
  },
  {
   "cell_type": "code",
   "execution_count": 102,
   "metadata": {},
   "outputs": [],
   "source": [
    "df = spark.sql(\n",
    "    \"\"\"WITH GenderCTE AS (\n",
    "\tSELECT DISTINCT  \n",
    "    CASE \n",
    "\t\tWHEN Gender IN ('F', 'Femail', 'Females', 'Femalr', 'Technically female') THEN 'Female'\n",
    "        WHEN Gender IN ('M', 'male', 'Man') THEN 'Male'\n",
    "\tEND AS Gender\n",
    "        FROM EmployeeReview\n",
    ")\n",
    "SELECT Gender, ROW_NUMBER() OVER (ORDER BY Gender) AS GenderID FROM GenderCTE WHERE Gender IS NOT NULL\"\"\"\n",
    ")\n",
    "df.createOrReplaceTempView('GenderMapping')"
   ]
  },
  {
   "cell_type": "markdown",
   "metadata": {},
   "source": [
    "### Education Level"
   ]
  },
  {
   "cell_type": "code",
   "execution_count": 103,
   "metadata": {},
   "outputs": [],
   "source": [
    "df = spark.sql(\n",
    "    \"\"\"WITH EducationLevelCTE AS (\n",
    "\tSELECT DISTINCT  \n",
    "    EducationLevel\n",
    "        FROM EmployeeReview\n",
    "        WHERE EducationLevel IS NOT NULL\n",
    ")\n",
    "SELECT EducationLevel, ROW_NUMBER() OVER (ORDER BY EducationLevel) AS EducationLevelID FROM EducationLevelCTE\"\"\"\n",
    ")\n",
    "df.createOrReplaceTempView('EducationLevelMapping')"
   ]
  },
  {
   "cell_type": "markdown",
   "metadata": {},
   "source": [
    "### EmploymentType"
   ]
  },
  {
   "cell_type": "code",
   "execution_count": 104,
   "metadata": {},
   "outputs": [],
   "source": [
    "df = spark.sql(\n",
    "    \"\"\"WITH EmploymentTypeCTE AS (\n",
    "\tSELECT DISTINCT  \n",
    "    EmploymentType\n",
    "        FROM EmployeeReview\n",
    "        WHERE EmploymentType IS NOT NULL\n",
    ")\n",
    "SELECT EmploymentType, ROW_NUMBER() OVER (ORDER BY EmploymentType) AS EmploymentTypeID FROM EmploymentTypeCTE\"\"\"\n",
    ")\n",
    "df.createOrReplaceTempView('EmploymentTypeMapping')"
   ]
  },
  {
   "cell_type": "markdown",
   "metadata": {},
   "source": [
    "### ExperienceLevel"
   ]
  },
  {
   "cell_type": "code",
   "execution_count": 105,
   "metadata": {},
   "outputs": [],
   "source": [
    "df = spark.sql(\n",
    "    \"\"\"WITH ExperienceLevelCTE AS (\n",
    "\tSELECT DISTINCT  \n",
    "    ExperienceLevel\n",
    "        FROM EmployeeReview\n",
    "        WHERE ExperienceLevel IS NOT NULL\n",
    ")\n",
    "SELECT ExperienceLevel, ROW_NUMBER() OVER (ORDER BY ExperienceLevel) AS ExperienceLevelID FROM ExperienceLevelCTE\"\"\"\n",
    ")\n",
    "df.createOrReplaceTempView('ExperienceLevelMapping')"
   ]
  },
  {
   "cell_type": "markdown",
   "metadata": {},
   "source": [
    "### Job Title "
   ]
  },
  {
   "cell_type": "code",
   "execution_count": 106,
   "metadata": {},
   "outputs": [],
   "source": [
    "df = spark.sql(\n",
    "    \"\"\"WITH JobTitleCTE AS (\n",
    "\tSELECT DISTINCT  \n",
    "    JobTitle\n",
    "        FROM EmployeeReview\n",
    "        WHERE JobTitle IS NOT NULL\n",
    ")\n",
    "SELECT JobTitle, ROW_NUMBER() OVER (ORDER BY JobTitle) AS JobTitleID FROM JobTitleCTE\"\"\"\n",
    ")\n",
    "df.createOrReplaceTempView('JobTitleMapping')"
   ]
  },
  {
   "cell_type": "markdown",
   "metadata": {},
   "source": [
    "### SeniorityLevel"
   ]
  },
  {
   "cell_type": "code",
   "execution_count": 107,
   "metadata": {},
   "outputs": [],
   "source": [
    "df = spark.sql(\n",
    "    \"\"\"WITH SeniorityLevelCTE AS (\n",
    "\tSELECT DISTINCT  \n",
    "    SeniorityLevel\n",
    "        FROM EmployeeReview\n",
    "        WHERE SeniorityLevel IS NOT NULL\n",
    ")\n",
    "SELECT SeniorityLevel, ROW_NUMBER() OVER (ORDER BY SeniorityLevel) AS SeniorityLevelID FROM SeniorityLevelCTE\"\"\"\n",
    ")\n",
    "df.createOrReplaceTempView('SeniorityLevelMapping')"
   ]
  },
  {
   "cell_type": "markdown",
   "metadata": {},
   "source": [
    "### Promotions"
   ]
  },
  {
   "cell_type": "code",
   "execution_count": 108,
   "metadata": {},
   "outputs": [],
   "source": [
    "df = spark.sql(\n",
    "    \"\"\"WITH PromotionsCTE AS (\n",
    "\tSELECT DISTINCT  \n",
    "    Promotions\n",
    "        FROM EmployeeReview\n",
    "        WHERE Promotions IS NOT NULL\n",
    ")\n",
    "SELECT Promotions, ROW_NUMBER() OVER (ORDER BY Promotions) AS PromotionsID FROM PromotionsCTE\"\"\"\n",
    ")\n",
    "df.createOrReplaceTempView('PromotionsMapping')"
   ]
  },
  {
   "cell_type": "markdown",
   "metadata": {},
   "source": [
    "### Industry"
   ]
  },
  {
   "cell_type": "code",
   "execution_count": 109,
   "metadata": {},
   "outputs": [],
   "source": [
    "df = spark.sql(\n",
    "    \"\"\"WITH IndustryCTE AS (\n",
    "\tSELECT DISTINCT  \n",
    "    Industry\n",
    "        FROM EmployeeReview\n",
    "        WHERE Industry IS NOT NULL\n",
    ")\n",
    "SELECT Industry, ROW_NUMBER() OVER (ORDER BY Industry) AS IndustryID FROM IndustryCTE\"\"\"\n",
    ")\n",
    "df.createOrReplaceTempView('IndustryMapping')"
   ]
  },
  {
   "cell_type": "markdown",
   "metadata": {},
   "source": [
    "### BusinessType"
   ]
  },
  {
   "cell_type": "code",
   "execution_count": 110,
   "metadata": {},
   "outputs": [],
   "source": [
    "df = spark.sql(\n",
    "    \"\"\"WITH BusinessTypeCTE AS (\n",
    "\tSELECT DISTINCT  \n",
    "    BusinessType\n",
    "        FROM EmployeeReview\n",
    "        WHERE BusinessType IS NOT NULL\n",
    ")\n",
    "SELECT BusinessType, ROW_NUMBER() OVER (ORDER BY BusinessType) AS BusinessTypeID FROM BusinessTypeCTE\"\"\"\n",
    ")\n",
    "df.createOrReplaceTempView('BusinessTypeMapping')"
   ]
  },
  {
   "cell_type": "markdown",
   "metadata": {},
   "source": [
    "### JobPerformance"
   ]
  },
  {
   "cell_type": "code",
   "execution_count": 111,
   "metadata": {},
   "outputs": [],
   "source": [
    "df = spark.sql(\n",
    "    \"\"\"WITH JobPerformanceCTE AS (\n",
    "\tSELECT DISTINCT  \n",
    "    JobPerformance\n",
    "        FROM EmployeeReview\n",
    "        WHERE JobPerformance IS NOT NULL\n",
    ")\n",
    "SELECT JobPerformance, ROW_NUMBER() OVER (ORDER BY JobPerformance) AS JobPerformanceID FROM JobPerformanceCTE\"\"\"\n",
    ")\n",
    "df.createOrReplaceTempView('JobPerformanceMapping')"
   ]
  },
  {
   "cell_type": "markdown",
   "metadata": {},
   "source": [
    "### IsCompensation"
   ]
  },
  {
   "cell_type": "code",
   "execution_count": 112,
   "metadata": {},
   "outputs": [],
   "source": [
    "df = spark.sql(\n",
    "    \"\"\"WITH IsCompensationCTE AS (\n",
    "\tSELECT DISTINCT  \n",
    "    IsCompensation\n",
    "        FROM EmployeeReview\n",
    "        WHERE IsCompensation IS NOT NULL\n",
    ")\n",
    "SELECT IsCompensation, ROW_NUMBER() OVER (ORDER BY IsCompensation) AS IsCompensationID FROM IsCompensationCTE\"\"\"\n",
    ")\n",
    "df.createOrReplaceTempView('IsCompensationMapping')"
   ]
  },
  {
   "cell_type": "markdown",
   "metadata": {},
   "source": [
    "### IsGrowth"
   ]
  },
  {
   "cell_type": "code",
   "execution_count": 113,
   "metadata": {},
   "outputs": [],
   "source": [
    "df = spark.sql(\n",
    "    \"\"\"WITH IsGrowthCTE AS (\n",
    "\tSELECT DISTINCT  \n",
    "    IsGrowth\n",
    "        FROM EmployeeReview\n",
    "        WHERE IsGrowth IS NOT NULL\n",
    ")\n",
    "SELECT IsGrowth, ROW_NUMBER() OVER (ORDER BY IsGrowth) AS IsGrowthID FROM IsGrowthCTE\"\"\"\n",
    ")\n",
    "df.createOrReplaceTempView('IsGrowthMapping')"
   ]
  },
  {
   "cell_type": "markdown",
   "metadata": {},
   "source": [
    "### IsDecisions"
   ]
  },
  {
   "cell_type": "code",
   "execution_count": 114,
   "metadata": {},
   "outputs": [],
   "source": [
    "df = spark.sql(\n",
    "    \"\"\"WITH IsDecisionsCTE AS (\n",
    "\tSELECT DISTINCT  \n",
    "    IsDecisions\n",
    "        FROM EmployeeReview\n",
    "        WHERE IsDecisions IS NOT NULL\n",
    ")\n",
    "SELECT IsDecisions, ROW_NUMBER() OVER (ORDER BY IsDecisions) AS IsDecisionsID FROM IsDecisionsCTE\"\"\"\n",
    ")\n",
    "df.createOrReplaceTempView('IsDecisionsMapping')"
   ]
  },
  {
   "cell_type": "markdown",
   "metadata": {},
   "source": [
    "### IsGrowthOpportunities"
   ]
  },
  {
   "cell_type": "code",
   "execution_count": 115,
   "metadata": {},
   "outputs": [],
   "source": [
    "df = spark.sql(\n",
    "    \"\"\"WITH IsGrowthOpportunitiesCTE AS (\n",
    "\tSELECT DISTINCT  \n",
    "    IsGrowthOpportunities\n",
    "        FROM EmployeeReview\n",
    "        WHERE IsGrowthOpportunities IS NOT NULL\n",
    ")\n",
    "SELECT IsGrowthOpportunities, ROW_NUMBER() OVER (ORDER BY IsGrowthOpportunities) AS IsGrowthOpportunitiesID \n",
    "FROM IsGrowthOpportunitiesCTE\"\"\"\n",
    ")\n",
    "df.createOrReplaceTempView('IsGrowthOpportunitiesMapping')"
   ]
  },
  {
   "cell_type": "markdown",
   "metadata": {},
   "source": [
    "### BonusStatus"
   ]
  },
  {
   "cell_type": "code",
   "execution_count": 116,
   "metadata": {},
   "outputs": [],
   "source": [
    "df = spark.sql(\n",
    "    \"\"\"WITH BonusStatusCTE AS (\n",
    "\tSELECT DISTINCT  \n",
    "    BonusStatus\n",
    "        FROM EmployeeSurvey\n",
    "        WHERE BonusStatus IS NOT NULL\n",
    ")\n",
    "SELECT BonusStatus, ROW_NUMBER() OVER (ORDER BY BonusStatus) AS BonusStatusID FROM BonusStatusCTE\"\"\"\n",
    ")\n",
    "df.createOrReplaceTempView('BonusStatusMapping')"
   ]
  },
  {
   "cell_type": "markdown",
   "metadata": {},
   "source": [
    "### EmployeeCount"
   ]
  },
  {
   "cell_type": "code",
   "execution_count": 117,
   "metadata": {},
   "outputs": [],
   "source": [
    "df = spark.sql(\n",
    "    \"\"\"WITH EmployeeCountCTE AS (\n",
    "\tSELECT DISTINCT  \n",
    "    EmployeeCount\n",
    "        FROM EmployeeSurvey\n",
    "        WHERE EmployeeCount IS NOT NULL\n",
    ")\n",
    "SELECT EmployeeCount, ROW_NUMBER() OVER (ORDER BY EmployeeCount) AS EmployeeCountID FROM EmployeeCountCTE\"\"\"\n",
    ")\n",
    "df.createOrReplaceTempView('EmployeeCountMapping')"
   ]
  },
  {
   "cell_type": "markdown",
   "metadata": {},
   "source": [
    "### IsFairness"
   ]
  },
  {
   "cell_type": "code",
   "execution_count": 118,
   "metadata": {},
   "outputs": [],
   "source": [
    "df = spark.sql(\n",
    "    \"\"\"WITH IsFairnessCTE AS (\n",
    "\tSELECT DISTINCT  \n",
    "    IsFairness\n",
    "        FROM EmployeeSurvey\n",
    "        WHERE IsFairness IS NOT NULL\n",
    ")\n",
    "SELECT IsFairness, ROW_NUMBER() OVER (ORDER BY IsFairness) AS IsFairnessID FROM IsFairnessCTE\"\"\"\n",
    ")\n",
    "df.createOrReplaceTempView('IsFairnessMapping')"
   ]
  },
  {
   "cell_type": "code",
   "execution_count": 121,
   "metadata": {},
   "outputs": [
    {
     "name": "stderr",
     "output_type": "stream",
     "text": [
      "24/06/23 23:30:58 WARN WindowExec: No Partition Defined for Window operation! Moving all data to a single partition, this can cause serious performance degradation.\n",
      "24/06/23 23:30:58 WARN WindowExec: No Partition Defined for Window operation! Moving all data to a single partition, this can cause serious performance degradation.\n",
      "24/06/23 23:30:58 WARN WindowExec: No Partition Defined for Window operation! Moving all data to a single partition, this can cause serious performance degradation.\n",
      "24/06/23 23:30:58 WARN WindowExec: No Partition Defined for Window operation! Moving all data to a single partition, this can cause serious performance degradation.\n",
      "24/06/23 23:30:58 WARN WindowExec: No Partition Defined for Window operation! Moving all data to a single partition, this can cause serious performance degradation.\n",
      "24/06/23 23:30:58 WARN WindowExec: No Partition Defined for Window operation! Moving all data to a single partition, this can cause serious performance degradation.\n",
      "24/06/23 23:30:58 WARN WindowExec: No Partition Defined for Window operation! Moving all data to a single partition, this can cause serious performance degradation.\n",
      "24/06/23 23:30:58 WARN WindowExec: No Partition Defined for Window operation! Moving all data to a single partition, this can cause serious performance degradation.\n",
      "24/06/23 23:30:58 WARN WindowExec: No Partition Defined for Window operation! Moving all data to a single partition, this can cause serious performance degradation.\n",
      "24/06/23 23:30:58 WARN WindowExec: No Partition Defined for Window operation! Moving all data to a single partition, this can cause serious performance degradation.\n",
      "24/06/23 23:30:58 WARN WindowExec: No Partition Defined for Window operation! Moving all data to a single partition, this can cause serious performance degradation.\n",
      "24/06/23 23:30:58 WARN WindowExec: No Partition Defined for Window operation! Moving all data to a single partition, this can cause serious performance degradation.\n",
      "24/06/23 23:30:58 WARN WindowExec: No Partition Defined for Window operation! Moving all data to a single partition, this can cause serious performance degradation.\n",
      "24/06/23 23:30:58 WARN WindowExec: No Partition Defined for Window operation! Moving all data to a single partition, this can cause serious performance degradation.\n",
      "24/06/23 23:30:58 WARN WindowExec: No Partition Defined for Window operation! Moving all data to a single partition, this can cause serious performance degradation.\n",
      "24/06/23 23:30:58 WARN WindowExec: No Partition Defined for Window operation! Moving all data to a single partition, this can cause serious performance degradation.\n",
      "24/06/23 23:30:58 WARN WindowExec: No Partition Defined for Window operation! Moving all data to a single partition, this can cause serious performance degradation.\n",
      "24/06/23 23:30:58 WARN WindowExec: No Partition Defined for Window operation! Moving all data to a single partition, this can cause serious performance degradation.\n",
      "24/06/23 23:30:58 WARN WindowExec: No Partition Defined for Window operation! Moving all data to a single partition, this can cause serious performance degradation.\n",
      "24/06/23 23:30:58 WARN WindowExec: No Partition Defined for Window operation! Moving all data to a single partition, this can cause serious performance degradation.\n",
      "24/06/23 23:30:58 WARN WindowExec: No Partition Defined for Window operation! Moving all data to a single partition, this can cause serious performance degradation.\n",
      "24/06/23 23:30:58 WARN WindowExec: No Partition Defined for Window operation! Moving all data to a single partition, this can cause serious performance degradation.\n",
      "24/06/23 23:30:58 WARN WindowExec: No Partition Defined for Window operation! Moving all data to a single partition, this can cause serious performance degradation.\n",
      "24/06/23 23:30:58 WARN WindowExec: No Partition Defined for Window operation! Moving all data to a single partition, this can cause serious performance degradation.\n",
      "24/06/23 23:30:58 WARN WindowExec: No Partition Defined for Window operation! Moving all data to a single partition, this can cause serious performance degradation.\n",
      "24/06/23 23:30:58 WARN WindowExec: No Partition Defined for Window operation! Moving all data to a single partition, this can cause serious performance degradation.\n",
      "24/06/23 23:30:58 WARN WindowExec: No Partition Defined for Window operation! Moving all data to a single partition, this can cause serious performance degradation.\n",
      "24/06/23 23:30:58 WARN WindowExec: No Partition Defined for Window operation! Moving all data to a single partition, this can cause serious performance degradation.\n",
      "24/06/23 23:30:58 WARN WindowExec: No Partition Defined for Window operation! Moving all data to a single partition, this can cause serious performance degradation.\n",
      "24/06/23 23:30:58 WARN WindowExec: No Partition Defined for Window operation! Moving all data to a single partition, this can cause serious performance degradation.\n",
      "24/06/23 23:30:58 WARN WindowExec: No Partition Defined for Window operation! Moving all data to a single partition, this can cause serious performance degradation.\n",
      "24/06/23 23:30:58 WARN WindowExec: No Partition Defined for Window operation! Moving all data to a single partition, this can cause serious performance degradation.\n",
      "24/06/23 23:30:58 WARN WindowExec: No Partition Defined for Window operation! Moving all data to a single partition, this can cause serious performance degradation.\n",
      "24/06/23 23:30:58 WARN WindowExec: No Partition Defined for Window operation! Moving all data to a single partition, this can cause serious performance degradation.\n",
      "24/06/23 23:30:58 WARN WindowExec: No Partition Defined for Window operation! Moving all data to a single partition, this can cause serious performance degradation.\n",
      "24/06/23 23:30:58 WARN WindowExec: No Partition Defined for Window operation! Moving all data to a single partition, this can cause serious performance degradation.\n",
      "24/06/23 23:31:07 WARN WindowExec: No Partition Defined for Window operation! Moving all data to a single partition, this can cause serious performance degradation.\n",
      "24/06/23 23:31:07 WARN WindowExec: No Partition Defined for Window operation! Moving all data to a single partition, this can cause serious performance degradation.\n",
      "24/06/23 23:31:07 WARN WindowExec: No Partition Defined for Window operation! Moving all data to a single partition, this can cause serious performance degradation.\n",
      "24/06/23 23:31:07 WARN WindowExec: No Partition Defined for Window operation! Moving all data to a single partition, this can cause serious performance degradation.\n",
      "24/06/23 23:31:07 WARN WindowExec: No Partition Defined for Window operation! Moving all data to a single partition, this can cause serious performance degradation.\n",
      "24/06/23 23:31:07 WARN WindowExec: No Partition Defined for Window operation! Moving all data to a single partition, this can cause serious performance degradation.\n",
      "24/06/23 23:31:07 WARN WindowExec: No Partition Defined for Window operation! Moving all data to a single partition, this can cause serious performance degradation.\n",
      "24/06/23 23:31:07 WARN WindowExec: No Partition Defined for Window operation! Moving all data to a single partition, this can cause serious performance degradation.\n",
      "24/06/23 23:31:07 WARN WindowExec: No Partition Defined for Window operation! Moving all data to a single partition, this can cause serious performance degradation.\n",
      "24/06/23 23:31:07 WARN WindowExec: No Partition Defined for Window operation! Moving all data to a single partition, this can cause serious performance degradation.\n",
      "24/06/23 23:31:07 WARN WindowExec: No Partition Defined for Window operation! Moving all data to a single partition, this can cause serious performance degradation.\n",
      "24/06/23 23:31:07 WARN WindowExec: No Partition Defined for Window operation! Moving all data to a single partition, this can cause serious performance degradation.\n",
      "24/06/23 23:31:07 WARN WindowExec: No Partition Defined for Window operation! Moving all data to a single partition, this can cause serious performance degradation.\n",
      "24/06/23 23:31:07 WARN WindowExec: No Partition Defined for Window operation! Moving all data to a single partition, this can cause serious performance degradation.\n",
      "24/06/23 23:31:07 WARN WindowExec: No Partition Defined for Window operation! Moving all data to a single partition, this can cause serious performance degradation.\n",
      "24/06/23 23:31:07 WARN WindowExec: No Partition Defined for Window operation! Moving all data to a single partition, this can cause serious performance degradation.\n",
      "24/06/23 23:31:07 WARN WindowExec: No Partition Defined for Window operation! Moving all data to a single partition, this can cause serious performance degradation.\n",
      "24/06/23 23:31:07 WARN WindowExec: No Partition Defined for Window operation! Moving all data to a single partition, this can cause serious performance degradation.\n",
      "24/06/23 23:31:07 WARN WindowExec: No Partition Defined for Window operation! Moving all data to a single partition, this can cause serious performance degradation.\n",
      "24/06/23 23:31:07 WARN WindowExec: No Partition Defined for Window operation! Moving all data to a single partition, this can cause serious performance degradation.\n",
      "24/06/23 23:31:07 WARN WindowExec: No Partition Defined for Window operation! Moving all data to a single partition, this can cause serious performance degradation.\n",
      "24/06/23 23:31:07 WARN WindowExec: No Partition Defined for Window operation! Moving all data to a single partition, this can cause serious performance degradation.\n",
      "24/06/23 23:31:07 WARN WindowExec: No Partition Defined for Window operation! Moving all data to a single partition, this can cause serious performance degradation.\n",
      "24/06/23 23:31:07 WARN WindowExec: No Partition Defined for Window operation! Moving all data to a single partition, this can cause serious performance degradation.\n",
      "24/06/23 23:31:07 WARN WindowExec: No Partition Defined for Window operation! Moving all data to a single partition, this can cause serious performance degradation.\n",
      "24/06/23 23:31:07 WARN WindowExec: No Partition Defined for Window operation! Moving all data to a single partition, this can cause serious performance degradation.\n",
      "24/06/23 23:31:07 WARN WindowExec: No Partition Defined for Window operation! Moving all data to a single partition, this can cause serious performance degradation.\n",
      "24/06/23 23:31:07 WARN WindowExec: No Partition Defined for Window operation! Moving all data to a single partition, this can cause serious performance degradation.\n",
      "24/06/23 23:31:07 WARN WindowExec: No Partition Defined for Window operation! Moving all data to a single partition, this can cause serious performance degradation.\n",
      "24/06/23 23:31:07 WARN WindowExec: No Partition Defined for Window operation! Moving all data to a single partition, this can cause serious performance degradation.\n",
      "24/06/23 23:31:07 WARN WindowExec: No Partition Defined for Window operation! Moving all data to a single partition, this can cause serious performance degradation.\n",
      "24/06/23 23:31:07 WARN WindowExec: No Partition Defined for Window operation! Moving all data to a single partition, this can cause serious performance degradation.\n",
      "24/06/23 23:31:07 WARN WindowExec: No Partition Defined for Window operation! Moving all data to a single partition, this can cause serious performance degradation.\n",
      "24/06/23 23:31:07 WARN WindowExec: No Partition Defined for Window operation! Moving all data to a single partition, this can cause serious performance degradation.\n",
      "24/06/23 23:31:07 WARN WindowExec: No Partition Defined for Window operation! Moving all data to a single partition, this can cause serious performance degradation.\n",
      "24/06/23 23:31:07 WARN WindowExec: No Partition Defined for Window operation! Moving all data to a single partition, this can cause serious performance degradation.\n",
      "24/06/23 23:31:16 WARN WindowExec: No Partition Defined for Window operation! Moving all data to a single partition, this can cause serious performance degradation.\n",
      "24/06/23 23:31:16 WARN WindowExec: No Partition Defined for Window operation! Moving all data to a single partition, this can cause serious performance degradation.\n",
      "24/06/23 23:31:16 WARN WindowExec: No Partition Defined for Window operation! Moving all data to a single partition, this can cause serious performance degradation.\n",
      "24/06/23 23:31:16 WARN WindowExec: No Partition Defined for Window operation! Moving all data to a single partition, this can cause serious performance degradation.\n",
      "24/06/23 23:31:16 WARN WindowExec: No Partition Defined for Window operation! Moving all data to a single partition, this can cause serious performance degradation.\n",
      "24/06/23 23:31:16 WARN WindowExec: No Partition Defined for Window operation! Moving all data to a single partition, this can cause serious performance degradation.\n",
      "24/06/23 23:31:16 WARN WindowExec: No Partition Defined for Window operation! Moving all data to a single partition, this can cause serious performance degradation.\n",
      "24/06/23 23:31:16 WARN WindowExec: No Partition Defined for Window operation! Moving all data to a single partition, this can cause serious performance degradation.\n",
      "24/06/23 23:31:16 WARN WindowExec: No Partition Defined for Window operation! Moving all data to a single partition, this can cause serious performance degradation.\n",
      "24/06/23 23:31:16 WARN WindowExec: No Partition Defined for Window operation! Moving all data to a single partition, this can cause serious performance degradation.\n",
      "24/06/23 23:31:16 WARN WindowExec: No Partition Defined for Window operation! Moving all data to a single partition, this can cause serious performance degradation.\n",
      "24/06/23 23:31:16 WARN WindowExec: No Partition Defined for Window operation! Moving all data to a single partition, this can cause serious performance degradation.\n",
      "24/06/23 23:31:16 WARN WindowExec: No Partition Defined for Window operation! Moving all data to a single partition, this can cause serious performance degradation.\n",
      "24/06/23 23:31:16 WARN WindowExec: No Partition Defined for Window operation! Moving all data to a single partition, this can cause serious performance degradation.\n",
      "24/06/23 23:31:16 WARN WindowExec: No Partition Defined for Window operation! Moving all data to a single partition, this can cause serious performance degradation.\n",
      "24/06/23 23:31:16 WARN WindowExec: No Partition Defined for Window operation! Moving all data to a single partition, this can cause serious performance degradation.\n",
      "24/06/23 23:31:16 WARN WindowExec: No Partition Defined for Window operation! Moving all data to a single partition, this can cause serious performance degradation.\n",
      "24/06/23 23:31:16 WARN WindowExec: No Partition Defined for Window operation! Moving all data to a single partition, this can cause serious performance degradation.\n",
      "24/06/23 23:31:17 WARN WindowExec: No Partition Defined for Window operation! Moving all data to a single partition, this can cause serious performance degradation.\n",
      "24/06/23 23:31:17 WARN WindowExec: No Partition Defined for Window operation! Moving all data to a single partition, this can cause serious performance degradation.\n",
      "24/06/23 23:31:17 WARN WindowExec: No Partition Defined for Window operation! Moving all data to a single partition, this can cause serious performance degradation.\n",
      "24/06/23 23:31:17 WARN WindowExec: No Partition Defined for Window operation! Moving all data to a single partition, this can cause serious performance degradation.\n",
      "24/06/23 23:31:17 WARN WindowExec: No Partition Defined for Window operation! Moving all data to a single partition, this can cause serious performance degradation.\n",
      "24/06/23 23:31:17 WARN WindowExec: No Partition Defined for Window operation! Moving all data to a single partition, this can cause serious performance degradation.\n",
      "24/06/23 23:31:17 WARN WindowExec: No Partition Defined for Window operation! Moving all data to a single partition, this can cause serious performance degradation.\n",
      "24/06/23 23:31:17 WARN WindowExec: No Partition Defined for Window operation! Moving all data to a single partition, this can cause serious performance degradation.\n",
      "24/06/23 23:31:17 WARN WindowExec: No Partition Defined for Window operation! Moving all data to a single partition, this can cause serious performance degradation.\n",
      "24/06/23 23:31:17 WARN WindowExec: No Partition Defined for Window operation! Moving all data to a single partition, this can cause serious performance degradation.\n",
      "24/06/23 23:31:17 WARN WindowExec: No Partition Defined for Window operation! Moving all data to a single partition, this can cause serious performance degradation.\n",
      "24/06/23 23:31:17 WARN WindowExec: No Partition Defined for Window operation! Moving all data to a single partition, this can cause serious performance degradation.\n",
      "24/06/23 23:31:17 WARN WindowExec: No Partition Defined for Window operation! Moving all data to a single partition, this can cause serious performance degradation.\n",
      "24/06/23 23:31:17 WARN WindowExec: No Partition Defined for Window operation! Moving all data to a single partition, this can cause serious performance degradation.\n",
      "24/06/23 23:31:17 WARN WindowExec: No Partition Defined for Window operation! Moving all data to a single partition, this can cause serious performance degradation.\n",
      "24/06/23 23:31:17 WARN WindowExec: No Partition Defined for Window operation! Moving all data to a single partition, this can cause serious performance degradation.\n",
      "24/06/23 23:31:17 WARN WindowExec: No Partition Defined for Window operation! Moving all data to a single partition, this can cause serious performance degradation.\n",
      "24/06/23 23:31:17 WARN WindowExec: No Partition Defined for Window operation! Moving all data to a single partition, this can cause serious performance degradation.\n",
      "24/06/23 23:31:17 WARN WindowExec: No Partition Defined for Window operation! Moving all data to a single partition, this can cause serious performance degradation.\n",
      "24/06/23 23:31:17 WARN WindowExec: No Partition Defined for Window operation! Moving all data to a single partition, this can cause serious performance degradation.\n",
      "24/06/23 23:31:17 WARN WindowExec: No Partition Defined for Window operation! Moving all data to a single partition, this can cause serious performance degradation.\n",
      "24/06/23 23:31:17 WARN WindowExec: No Partition Defined for Window operation! Moving all data to a single partition, this can cause serious performance degradation.\n",
      "24/06/23 23:31:17 WARN WindowExec: No Partition Defined for Window operation! Moving all data to a single partition, this can cause serious performance degradation.\n",
      "24/06/23 23:31:17 WARN WindowExec: No Partition Defined for Window operation! Moving all data to a single partition, this can cause serious performance degradation.\n",
      "24/06/23 23:31:17 WARN WindowExec: No Partition Defined for Window operation! Moving all data to a single partition, this can cause serious performance degradation.\n",
      "24/06/23 23:31:17 WARN WindowExec: No Partition Defined for Window operation! Moving all data to a single partition, this can cause serious performance degradation.\n",
      "24/06/23 23:31:17 WARN WindowExec: No Partition Defined for Window operation! Moving all data to a single partition, this can cause serious performance degradation.\n",
      "24/06/23 23:31:17 WARN WindowExec: No Partition Defined for Window operation! Moving all data to a single partition, this can cause serious performance degradation.\n",
      "24/06/23 23:31:17 WARN WindowExec: No Partition Defined for Window operation! Moving all data to a single partition, this can cause serious performance degradation.\n",
      "24/06/23 23:31:17 WARN WindowExec: No Partition Defined for Window operation! Moving all data to a single partition, this can cause serious performance degradation.\n",
      "24/06/23 23:31:17 WARN WindowExec: No Partition Defined for Window operation! Moving all data to a single partition, this can cause serious performance degradation.\n",
      "24/06/23 23:31:17 WARN WindowExec: No Partition Defined for Window operation! Moving all data to a single partition, this can cause serious performance degradation.\n",
      "24/06/23 23:31:17 WARN WindowExec: No Partition Defined for Window operation! Moving all data to a single partition, this can cause serious performance degradation.\n",
      "24/06/23 23:31:17 WARN WindowExec: No Partition Defined for Window operation! Moving all data to a single partition, this can cause serious performance degradation.\n",
      "24/06/23 23:31:18 WARN WindowExec: No Partition Defined for Window operation! Moving all data to a single partition, this can cause serious performance degradation.\n",
      "24/06/23 23:31:18 WARN WindowExec: No Partition Defined for Window operation! Moving all data to a single partition, this can cause serious performance degradation.\n",
      "24/06/23 23:31:18 WARN WindowExec: No Partition Defined for Window operation! Moving all data to a single partition, this can cause serious performance degradation.\n",
      "24/06/23 23:31:18 WARN WindowExec: No Partition Defined for Window operation! Moving all data to a single partition, this can cause serious performance degradation.\n",
      "24/06/23 23:31:18 WARN WindowExec: No Partition Defined for Window operation! Moving all data to a single partition, this can cause serious performance degradation.\n",
      "24/06/23 23:31:18 WARN WindowExec: No Partition Defined for Window operation! Moving all data to a single partition, this can cause serious performance degradation.\n",
      "24/06/23 23:31:18 WARN WindowExec: No Partition Defined for Window operation! Moving all data to a single partition, this can cause serious performance degradation.\n",
      "24/06/23 23:31:18 WARN WindowExec: No Partition Defined for Window operation! Moving all data to a single partition, this can cause serious performance degradation.\n",
      "24/06/23 23:31:18 WARN WindowExec: No Partition Defined for Window operation! Moving all data to a single partition, this can cause serious performance degradation.\n",
      "24/06/23 23:31:18 WARN WindowExec: No Partition Defined for Window operation! Moving all data to a single partition, this can cause serious performance degradation.\n",
      "                                                                                \r"
     ]
    }
   ],
   "source": [
    "df = spark.sql(\n",
    "    \"\"\"WITH EmployeeReviewCTE AS (\n",
    "    SELECT DISTINCT\n",
    "        `Respondent ID` AS RespondentID,\n",
    "        to_date(`Start Date`, 'M/d/y H:m') AS StartDate,\n",
    "        Race,\n",
    "        CASE\n",
    "            WHEN Gender IN ('F', 'Femail', 'Females', 'Femalr', 'Technically female') THEN 'Female'\n",
    "            WHEN Gender IN ('M', 'male', 'Man') THEN 'Male'\n",
    "            ELSE Gender\n",
    "        END AS Gender,\n",
    "        CASE\n",
    "            WHEN Age LIKE '%-%' THEN\n",
    "                (CAST(SUBSTRING_INDEX(Age, '-', 1) AS DECIMAL) + CAST(SUBSTRING_INDEX(Age, '-', -1) AS DECIMAL)) / 2\n",
    "            WHEN Age LIKE '%+%' THEN\n",
    "                CAST(SUBSTRING_INDEX(Age, '+', 1) AS DECIMAL)\n",
    "            ELSE\n",
    "                CAST(Age AS DECIMAL)\n",
    "        END AS Age,\n",
    "        EducationLevel,\n",
    "        EmploymentType,\n",
    "        ExperienceLevel,\n",
    "        JobTitle,\n",
    "        SeniorityLevel,\n",
    "        Promotions,\n",
    "        Industry,\n",
    "        BusinessType,\n",
    "        JobPerformance,\n",
    "        IsCompensation,\n",
    "        IsGrowth,\n",
    "        IsDecisions,\n",
    "        IsGrowthOpportunities\n",
    "    FROM\n",
    "        EmployeeReview\n",
    "    WHERE\n",
    "        `Respondent ID` IS NOT NULL\n",
    "        AND `Start Date` IS NOT NULL\n",
    "        AND Race IS NOT NULL\n",
    "        AND Gender IS NOT NULL\n",
    "        AND (Age IS NOT NULL AND Age != '')\n",
    "        AND EducationLevel IS NOT NULL\n",
    "        AND EmploymentType IS NOT NULL\n",
    "        AND ExperienceLevel IS NOT NULL\n",
    "        AND JobTitle IS NOT NULL\n",
    "        AND SeniorityLevel IS NOT NULL\n",
    "        AND Promotions IS NOT NULL\n",
    "        AND Industry IS NOT NULL\n",
    "        AND BusinessType IS NOT NULL\n",
    "        AND JobPerformance IS NOT NULL\n",
    "        AND IsCompensation IS NOT NULL\n",
    "        AND IsGrowth IS NOT NULL\n",
    "        AND IsDecisions IS NOT NULL\n",
    "        AND IsGrowthOpportunities IS NOT NULL\n",
    "),\n",
    "EmployeeSurveyCTE AS (\n",
    "    SELECT DISTINCT\n",
    "        RespondentID,\n",
    "        PostalCode,\n",
    "        Salary,\n",
    "        BonusStatus,\n",
    "        EmployeeCount,\n",
    "        IsFairness\n",
    "    FROM EmployeeSurvey\n",
    "    WHERE\n",
    "        RespondentID IS NOT NULL\n",
    "        AND PostalCode IS NOT NULL\n",
    "        AND Salary IS NOT NULL\n",
    "        AND BonusStatus IS NOT NULL\n",
    "        AND EmployeeCount IS NOT NULL\n",
    "        AND IsFairness IS NOT NULL\n",
    ")\n",
    "SELECT ER.RespondentID,\n",
    "    ER.StartDate,\n",
    "    ROUND(ER.Age) AS Age,\n",
    "    ER.Race,\n",
    "    RM.RaceID,\n",
    "    ER.Gender,\n",
    "    GM.GenderID,\n",
    "    ER.EducationLevel,\n",
    "    ELM.EducationLevelID,\n",
    "    ER.EmploymentType,\n",
    "    ETM.EmploymentTypeID,\n",
    "    ER.ExperienceLevel,\n",
    "    EM.ExperienceLevelID,\n",
    "    ER.JobTitle,\n",
    "    JTM.JobTitleID,\n",
    "    ER.SeniorityLevel,\n",
    "    SLM.SeniorityLevelID,\n",
    "    ER.Promotions,\n",
    "    PM.PromotionsID,\n",
    "    ER.Industry,\n",
    "    IM.IndustryID,\n",
    "    ER.BusinessType,\n",
    "    BTM.BusinessTypeID,\n",
    "    ER.JobPerformance,\n",
    "    JPM.JobPerformanceID,\n",
    "    ER.IsCompensation,\n",
    "    ICM.IsCompensationID,\n",
    "    ER.IsGrowth,\n",
    "    IGM.IsGrowthID,\n",
    "    ER.IsDecisions,\n",
    "    IDM.IsDecisionsID,\n",
    "    ER.IsGrowthOpportunities,\n",
    "    IGOM.IsGrowthOpportunitiesID,\n",
    "    ES.PostalCode,\n",
    "    ROUND(ES.Salary, 2) AS Salary,\n",
    "    ES.BonusStatus,\n",
    "    BSM.BonusStatusID,\n",
    "    ES.EmployeeCount,\n",
    "    ECM.EmployeeCountID,\n",
    "    ES.IsFairness,\n",
    "    IFM.IsFairnessID\n",
    "    FROM EmployeeReviewCTE AS ER \n",
    "    INNER JOIN EmployeeSurveyCTE AS ES ON ES.RespondentID = ER.RespondentID\n",
    "    INNER JOIN RaceMapping AS RM ON LTRIM(RTRIM(LOWER(ER.Race))) = LTRIM(RTRIM(LOWER(RM.Race)))\n",
    "    INNER JOIN GenderMapping AS GM ON LTRIM(RTRIM(LOWER(ER.Gender))) = LTRIM(RTRIM(LOWER(GM.Gender)))\n",
    "    INNER JOIN EducationLevelMapping AS ELM ON LTRIM(RTRIM(LOWER(ER.EducationLevel))) = LTRIM(RTRIM(LOWER(ELM.EducationLevel)))\n",
    "    INNER JOIN EmploymentTypeMapping AS ETM ON LTRIM(RTRIM(LOWER(ER.EmploymentType))) = LTRIM(RTRIM(LOWER(ETM.EmploymentType)))\n",
    "    INNER JOIN ExperienceLevelMapping AS EM ON LTRIM(RTRIM(LOWER(ER.ExperienceLevel))) = LTRIM(RTRIM(LOWER(EM.ExperienceLevel)))\n",
    "    INNER JOIN JobTitleMapping AS JTM ON LTRIM(RTRIM(LOWER(ER.JobTitle))) = LTRIM(RTRIM(LOWER(JTM.JobTitle)))\n",
    "    INNER JOIN SeniorityLevelMapping AS SLM ON LTRIM(RTRIM(LOWER(ER.SeniorityLevel))) = LTRIM(RTRIM(LOWER(SLM.SeniorityLevel)))\n",
    "    INNER JOIN PromotionsMapping AS PM ON LTRIM(RTRIM(LOWER(ER.Promotions))) = LTRIM(RTRIM(LOWER(PM.Promotions)))\n",
    "    INNER JOIN IndustryMapping AS IM ON LTRIM(RTRIM(LOWER(ER.Industry))) = LTRIM(RTRIM(LOWER(IM.Industry)))\n",
    "    INNER JOIN BusinessTypeMapping AS BTM ON LTRIM(RTRIM(LOWER(ER.BusinessType))) = LTRIM(RTRIM(LOWER(BTM.BusinessType)))\n",
    "    INNER JOIN JobPerformanceMapping AS JPM ON LTRIM(RTRIM(LOWER(ER.JobPerformance))) = LTRIM(RTRIM(LOWER(JPM.JobPerformance)))\n",
    "    INNER JOIN IsCompensationMapping AS ICM ON LTRIM(RTRIM(LOWER(ER.IsCompensation))) = LTRIM(RTRIM(LOWER(ICM.IsCompensation)))\n",
    "    INNER JOIN IsGrowthMapping AS IGM ON LTRIM(RTRIM(LOWER(ER.IsGrowth))) = LTRIM(RTRIM(LOWER(IGM.IsGrowth)))\n",
    "    INNER JOIN IsDecisionsMapping AS IDM ON LTRIM(RTRIM(LOWER(ER.IsDecisions))) = LTRIM(RTRIM(LOWER(IDM.IsDecisions)))\n",
    "    INNER JOIN IsGrowthOpportunitiesMapping AS IGOM ON LTRIM(RTRIM(LOWER(ER.IsGrowthOpportunities))) = LTRIM(RTRIM(LOWER(IGOM.IsGrowthOpportunities)))\n",
    "    INNER JOIN BonusStatusMapping AS BSM ON LTRIM(RTRIM(LOWER(ES.BonusStatus))) = LTRIM(RTRIM(LOWER(BSM.BonusStatus)))\n",
    "    INNER JOIN EmployeeCountMapping AS ECM ON LTRIM(RTRIM(LOWER(ES.EmployeeCount))) = LTRIM(RTRIM(LOWER(ECM.EmployeeCount)))\n",
    "    INNER JOIN IsFairnessMapping AS IFM ON LTRIM(RTRIM(LOWER(ES.IsFairness))) = LTRIM(RTRIM(LOWER(IFM.IsFairness)))\n",
    "\"\"\"\n",
    ")\n",
    "df.write.mode('overwrite').format('parquet').save('CompleteEmployeeSurveyDetails')"
   ]
  },
  {
   "cell_type": "code",
   "execution_count": 7,
   "metadata": {},
   "outputs": [
    {
     "name": "stderr",
     "output_type": "stream",
     "text": [
      "                                                                                \r"
     ]
    }
   ],
   "source": [
    "df = spark.sql(\n",
    "    \"\"\"SELECT RespondentID, \n",
    "    StartDate, \n",
    "    Age, \n",
    "    RaceID, \n",
    "    GenderID, \n",
    "    EducationLevelID, \n",
    "    EmploymentTypeID, \n",
    "    ExperienceLevelID, \n",
    "    JobTitleID, \n",
    "    SeniorityLevelID, \n",
    "    PromotionsID, \n",
    "    IndustryID, \n",
    "    BusinessTypeID, \n",
    "    JobPerformanceID, \n",
    "    IsCompensationID, \n",
    "    IsGrowthID, \n",
    "    IsDecisionsID, \n",
    "    IsGrowthOpportunitiesID, \n",
    "    PostalCode, \n",
    "    Salary, \n",
    "    BonusStatusID, \n",
    "    EmployeeCountID, \n",
    "    IsFairnessID\n",
    "    FROM PARQUET.`/Users/ronitguptaaa/Documents/Excel Analysis/Project-1_DS/CompleteEmployeeSurveyDetails`\n",
    "    \"\"\"\n",
    ").write.mode('overwrite').format('parquet').save('Fact_EmployeeDetails')"
   ]
  }
 ],
 "metadata": {
  "kernelspec": {
   "display_name": ".venv",
   "language": "python",
   "name": "python3"
  },
  "language_info": {
   "codemirror_mode": {
    "name": "ipython",
    "version": 3
   },
   "file_extension": ".py",
   "mimetype": "text/x-python",
   "name": "python",
   "nbconvert_exporter": "python",
   "pygments_lexer": "ipython3",
   "version": "3.9.16"
  }
 },
 "nbformat": 4,
 "nbformat_minor": 2
}
